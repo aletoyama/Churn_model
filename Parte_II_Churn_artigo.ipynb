{
  "nbformat": 4,
  "nbformat_minor": 0,
  "metadata": {
    "colab": {
      "name": "Parte II: Churn artigo",
      "provenance": [],
      "collapsed_sections": [],
      "authorship_tag": "ABX9TyPQzbkLeA2dugc9OZNV3DmD",
      "include_colab_link": true
    },
    "kernelspec": {
      "name": "python3",
      "display_name": "Python 3"
    }
  },
  "cells": [
    {
      "cell_type": "markdown",
      "metadata": {
        "id": "view-in-github",
        "colab_type": "text"
      },
      "source": [
        "<a href=\"https://colab.research.google.com/github/scudilio/Churn_model/blob/master/Parte_II_Churn_artigo.ipynb\" target=\"_parent\"><img src=\"https://colab.research.google.com/assets/colab-badge.svg\" alt=\"Open In Colab\"/></a>"
      ]
    },
    {
      "cell_type": "markdown",
      "metadata": {
        "id": "fjL6QkpE5j2l",
        "colab_type": "text"
      },
      "source": [
        "\n",
        "\n",
        "PARTE II: Como utilizar modelos de Machine Learning para reduzir o Churn**"
      ]
    },
    {
      "cell_type": "markdown",
      "metadata": {
        "id": "Gn7g5iMC8L_L",
        "colab_type": "text"
      },
      "source": [
        "Empresas que utilizam data driven maximizam seus resultados através de informações extraídas dos dados. Ou seja, utilizam os dados para transformar em informações e as informações para tomar decisões. \n",
        "\n",
        "\n",
        "\"*Seus clientes mais insatisfeitos são sua maior fonte de **aprendizado** (Bill Gates).*\"\n",
        "\n",
        "A taxa de retenção de clientes é um bom indicativo de qualidade do seu produto/serviço. Se o produto/serviço não são de qualidade, você irá observar uma porcentagem alta de clientes deixando de comprar ou trocando de empresa, ou seja, uma alta taxa de Churn. \n",
        "\n",
        "Mas quais são as características que leva um cliente a dar o Churn? \n",
        "\n",
        "Na parte I desse tutorial já entendemos o problema de Churn e estabelecemos o objetivo, identificar o perfil e prever os clientes em risco de Churn.\n",
        "\n",
        "Agora nessa parte II daremos continuidade a análise e para isso utilizaremos um conjunto de dados de uma agência bancária.\n",
        "\n",
        "Recordando, para esse projeto de Data Science seguiremos essas etapas\n",
        "\n",
        "1.   Entedimento do Problema\n",
        "2.   Obtenção dos dados\n",
        "3.   Análise Exploratória dos dados\n",
        "4.   Pré-processamento\n",
        "5.   Modelos de Machine Learning\n",
        "6.   Avaliação do modelo \n",
        "\n",
        "Na etapa 1  abordamos o problema de Churn e estabelecemos os objetivos. Essa etapa foi apresentada na Parte I dessa série de artigos.\n",
        "\n",
        "Se você tem dúvidas sobre o que é o Churn, corre lá para ler esse artigo. Ele te ajudará a entender a importãncia e o porque estamos fazendo essas análise.\n",
        "\n",
        "**[PARTE I: Como utilizar modelos de Machine Learning para reduzir o Churn]**\n",
        "\n",
        "Agora na Parte II dessa série de artigos, vamos executar a etapa 2 e 3, ou seja, obter, explorar e visualizar os dados."
      ]
    },
    {
      "cell_type": "markdown",
      "metadata": {
        "id": "wL1D3LkK89dv",
        "colab_type": "text"
      },
      "source": [
        "## **2. Obtenção do conjunto de dados**\n",
        "\n",
        " Os dados utilizados aqui foram extraídos do Kaggle e são dados de clientes de uma agência bancária. Utilizaremos o Google Colab, o python na nuvem, para fazer as análises.\n",
        "\n",
        "**Permitindo o acesso do Google Colab ao Drive**\n",
        "\n",
        "Para importar os dados, que estão salvo no Google Drive, é necessário permitir o acesso do Colab. Para isso precisamos rodar os comandos abaixo e clicar na URL que irá aparecer, permitir o acesso ao drive e copiar e colar o código de acesso no Colab. "
      ]
    },
    {
      "cell_type": "code",
      "metadata": {
        "id": "QblfrqEa5iaq",
        "colab_type": "code",
        "outputId": "a94ae723-789b-486b-a045-8cf05e589d85",
        "colab": {
          "base_uri": "https://localhost:8080/",
          "height": 125
        }
      },
      "source": [
        "#Acesso ao drive\n",
        "from google.colab import drive\n",
        "drive.mount('/content/drive') "
      ],
      "execution_count": 0,
      "outputs": [
        {
          "output_type": "stream",
          "text": [
            "Go to this URL in a browser: https://accounts.google.com/o/oauth2/auth?client_id=947318989803-6bn6qk8qdgf4n4g3pfee6491hc0brc4i.apps.googleusercontent.com&redirect_uri=urn%3aietf%3awg%3aoauth%3a2.0%3aoob&response_type=code&scope=email%20https%3a%2f%2fwww.googleapis.com%2fauth%2fdocs.test%20https%3a%2f%2fwww.googleapis.com%2fauth%2fdrive%20https%3a%2f%2fwww.googleapis.com%2fauth%2fdrive.photos.readonly%20https%3a%2f%2fwww.googleapis.com%2fauth%2fpeopleapi.readonly\n",
            "\n",
            "Enter your authorization code:\n",
            "··········\n",
            "Mounted at /content/drive\n"
          ],
          "name": "stdout"
        }
      ]
    },
    {
      "cell_type": "markdown",
      "metadata": {
        "id": "bnh0mBqwRGdO",
        "colab_type": "text"
      },
      "source": [
        "**Importando os dados**"
      ]
    },
    {
      "cell_type": "markdown",
      "metadata": {
        "id": "BMUaSkOFSLuo",
        "colab_type": "text"
      },
      "source": [
        "Para fazer as análise precisamos dos dados, assim vamos importar a biblioteca pandas para processar os dados."
      ]
    },
    {
      "cell_type": "code",
      "metadata": {
        "id": "eQngMnNjSKpn",
        "colab_type": "code",
        "colab": {}
      },
      "source": [
        "import pandas as pd"
      ],
      "execution_count": 0,
      "outputs": []
    },
    {
      "cell_type": "markdown",
      "metadata": {
        "id": "ph5BtTTsSyfN",
        "colab_type": "text"
      },
      "source": [
        "A importação dos dados é feita utilizando os comandos a seguir"
      ]
    },
    {
      "cell_type": "code",
      "metadata": {
        "id": "7vZAjUtDRDkF",
        "colab_type": "code",
        "outputId": "60162124-45b7-4903-8f78-844a4115ab29",
        "colab": {
          "base_uri": "https://localhost:8080/",
          "height": 347
        }
      },
      "source": [
        "##IMPORTANDO ARQUIVOS\n",
        "#escrevendo em um arquivo csv\n",
        "df= pd.read_csv('/content/drive/My Drive/kaggle_datasets/Churn_Modelling.csv')\n",
        "df.head(10) #visualizando as 10 primeiras linhas do dataset"
      ],
      "execution_count": 0,
      "outputs": [
        {
          "output_type": "execute_result",
          "data": {
            "text/html": [
              "<div>\n",
              "<style scoped>\n",
              "    .dataframe tbody tr th:only-of-type {\n",
              "        vertical-align: middle;\n",
              "    }\n",
              "\n",
              "    .dataframe tbody tr th {\n",
              "        vertical-align: top;\n",
              "    }\n",
              "\n",
              "    .dataframe thead th {\n",
              "        text-align: right;\n",
              "    }\n",
              "</style>\n",
              "<table border=\"1\" class=\"dataframe\">\n",
              "  <thead>\n",
              "    <tr style=\"text-align: right;\">\n",
              "      <th></th>\n",
              "      <th>RowNumber</th>\n",
              "      <th>CustomerId</th>\n",
              "      <th>Surname</th>\n",
              "      <th>CreditScore</th>\n",
              "      <th>Geography</th>\n",
              "      <th>Gender</th>\n",
              "      <th>Age</th>\n",
              "      <th>Tenure</th>\n",
              "      <th>Balance</th>\n",
              "      <th>NumOfProducts</th>\n",
              "      <th>HasCrCard</th>\n",
              "      <th>IsActiveMember</th>\n",
              "      <th>EstimatedSalary</th>\n",
              "      <th>Exited</th>\n",
              "    </tr>\n",
              "  </thead>\n",
              "  <tbody>\n",
              "    <tr>\n",
              "      <th>0</th>\n",
              "      <td>1</td>\n",
              "      <td>15634602</td>\n",
              "      <td>Hargrave</td>\n",
              "      <td>619</td>\n",
              "      <td>France</td>\n",
              "      <td>Female</td>\n",
              "      <td>42</td>\n",
              "      <td>2</td>\n",
              "      <td>0.00</td>\n",
              "      <td>1</td>\n",
              "      <td>1</td>\n",
              "      <td>1</td>\n",
              "      <td>101348.88</td>\n",
              "      <td>1</td>\n",
              "    </tr>\n",
              "    <tr>\n",
              "      <th>1</th>\n",
              "      <td>2</td>\n",
              "      <td>15647311</td>\n",
              "      <td>Hill</td>\n",
              "      <td>608</td>\n",
              "      <td>Spain</td>\n",
              "      <td>Female</td>\n",
              "      <td>41</td>\n",
              "      <td>1</td>\n",
              "      <td>83807.86</td>\n",
              "      <td>1</td>\n",
              "      <td>0</td>\n",
              "      <td>1</td>\n",
              "      <td>112542.58</td>\n",
              "      <td>0</td>\n",
              "    </tr>\n",
              "    <tr>\n",
              "      <th>2</th>\n",
              "      <td>3</td>\n",
              "      <td>15619304</td>\n",
              "      <td>Onio</td>\n",
              "      <td>502</td>\n",
              "      <td>France</td>\n",
              "      <td>Female</td>\n",
              "      <td>42</td>\n",
              "      <td>8</td>\n",
              "      <td>159660.80</td>\n",
              "      <td>3</td>\n",
              "      <td>1</td>\n",
              "      <td>0</td>\n",
              "      <td>113931.57</td>\n",
              "      <td>1</td>\n",
              "    </tr>\n",
              "    <tr>\n",
              "      <th>3</th>\n",
              "      <td>4</td>\n",
              "      <td>15701354</td>\n",
              "      <td>Boni</td>\n",
              "      <td>699</td>\n",
              "      <td>France</td>\n",
              "      <td>Female</td>\n",
              "      <td>39</td>\n",
              "      <td>1</td>\n",
              "      <td>0.00</td>\n",
              "      <td>2</td>\n",
              "      <td>0</td>\n",
              "      <td>0</td>\n",
              "      <td>93826.63</td>\n",
              "      <td>0</td>\n",
              "    </tr>\n",
              "    <tr>\n",
              "      <th>4</th>\n",
              "      <td>5</td>\n",
              "      <td>15737888</td>\n",
              "      <td>Mitchell</td>\n",
              "      <td>850</td>\n",
              "      <td>Spain</td>\n",
              "      <td>Female</td>\n",
              "      <td>43</td>\n",
              "      <td>2</td>\n",
              "      <td>125510.82</td>\n",
              "      <td>1</td>\n",
              "      <td>1</td>\n",
              "      <td>1</td>\n",
              "      <td>79084.10</td>\n",
              "      <td>0</td>\n",
              "    </tr>\n",
              "    <tr>\n",
              "      <th>5</th>\n",
              "      <td>6</td>\n",
              "      <td>15574012</td>\n",
              "      <td>Chu</td>\n",
              "      <td>645</td>\n",
              "      <td>Spain</td>\n",
              "      <td>Male</td>\n",
              "      <td>44</td>\n",
              "      <td>8</td>\n",
              "      <td>113755.78</td>\n",
              "      <td>2</td>\n",
              "      <td>1</td>\n",
              "      <td>0</td>\n",
              "      <td>149756.71</td>\n",
              "      <td>1</td>\n",
              "    </tr>\n",
              "    <tr>\n",
              "      <th>6</th>\n",
              "      <td>7</td>\n",
              "      <td>15592531</td>\n",
              "      <td>Bartlett</td>\n",
              "      <td>822</td>\n",
              "      <td>France</td>\n",
              "      <td>Male</td>\n",
              "      <td>50</td>\n",
              "      <td>7</td>\n",
              "      <td>0.00</td>\n",
              "      <td>2</td>\n",
              "      <td>1</td>\n",
              "      <td>1</td>\n",
              "      <td>10062.80</td>\n",
              "      <td>0</td>\n",
              "    </tr>\n",
              "    <tr>\n",
              "      <th>7</th>\n",
              "      <td>8</td>\n",
              "      <td>15656148</td>\n",
              "      <td>Obinna</td>\n",
              "      <td>376</td>\n",
              "      <td>Germany</td>\n",
              "      <td>Female</td>\n",
              "      <td>29</td>\n",
              "      <td>4</td>\n",
              "      <td>115046.74</td>\n",
              "      <td>4</td>\n",
              "      <td>1</td>\n",
              "      <td>0</td>\n",
              "      <td>119346.88</td>\n",
              "      <td>1</td>\n",
              "    </tr>\n",
              "    <tr>\n",
              "      <th>8</th>\n",
              "      <td>9</td>\n",
              "      <td>15792365</td>\n",
              "      <td>He</td>\n",
              "      <td>501</td>\n",
              "      <td>France</td>\n",
              "      <td>Male</td>\n",
              "      <td>44</td>\n",
              "      <td>4</td>\n",
              "      <td>142051.07</td>\n",
              "      <td>2</td>\n",
              "      <td>0</td>\n",
              "      <td>1</td>\n",
              "      <td>74940.50</td>\n",
              "      <td>0</td>\n",
              "    </tr>\n",
              "    <tr>\n",
              "      <th>9</th>\n",
              "      <td>10</td>\n",
              "      <td>15592389</td>\n",
              "      <td>H?</td>\n",
              "      <td>684</td>\n",
              "      <td>France</td>\n",
              "      <td>Male</td>\n",
              "      <td>27</td>\n",
              "      <td>2</td>\n",
              "      <td>134603.88</td>\n",
              "      <td>1</td>\n",
              "      <td>1</td>\n",
              "      <td>1</td>\n",
              "      <td>71725.73</td>\n",
              "      <td>0</td>\n",
              "    </tr>\n",
              "  </tbody>\n",
              "</table>\n",
              "</div>"
            ],
            "text/plain": [
              "   RowNumber  CustomerId   Surname  ...  IsActiveMember EstimatedSalary Exited\n",
              "0          1    15634602  Hargrave  ...               1       101348.88      1\n",
              "1          2    15647311      Hill  ...               1       112542.58      0\n",
              "2          3    15619304      Onio  ...               0       113931.57      1\n",
              "3          4    15701354      Boni  ...               0        93826.63      0\n",
              "4          5    15737888  Mitchell  ...               1        79084.10      0\n",
              "5          6    15574012       Chu  ...               0       149756.71      1\n",
              "6          7    15592531  Bartlett  ...               1        10062.80      0\n",
              "7          8    15656148    Obinna  ...               0       119346.88      1\n",
              "8          9    15792365        He  ...               1        74940.50      0\n",
              "9         10    15592389        H?  ...               1        71725.73      0\n",
              "\n",
              "[10 rows x 14 columns]"
            ]
          },
          "metadata": {
            "tags": []
          },
          "execution_count": 3
        }
      ]
    },
    {
      "cell_type": "markdown",
      "metadata": {
        "id": "68oGLT7ySiEY",
        "colab_type": "text"
      },
      "source": [
        "No conjunto de dados temos as seguinte variáveis:\n",
        "\n",
        "* CustomerId: identificação do cliente;\n",
        "* Surname: sobrenome do clientes;\n",
        "* CreditScore: pontuação de credito, 0 alto risco de inadimplência e 1000 clientes com baixo risco de inadimplência;\n",
        "* Geography: país que o serviço é oferecido;\n",
        "* Gender: sexo do cliente;\n",
        "* Age: idade do cleinte;\n",
        "* Tenure: um indicativo de estabilidade no emprego, em que 0 significa pouca estabilidade e 10 muita estabilidade. \n",
        "* Balance: saldo da conta corrente;\n",
        "* NumOfProducts: número de produtos bancários adquiridos;\n",
        "* HasCrCard: se tem cartão de credito ou não, (Sim = 1 e Não = 0);\n",
        "* IsActiveMember: se é um cliente com conta ativa, (Ativo = 1) ;\n",
        "* EstimatedSalary: salário estimado;\n",
        "* Exited: cliente deixou de ser cliente do banco ou não (Churn = 1).\n",
        "\n",
        "\n",
        "##**3. Análise Exploratória dos dados - Visão geral do conjunto de dados**\n",
        "\n",
        "Nessa etapa, iremos \n",
        "\n",
        "* Identificar o tipo de cada variável (númerica, categórica, temporal)\n",
        "* Identificar qual é a variável target (alvo) para o nosso problema\n",
        "* Exploração dos dados (medidas descritivas, distribuição das variáveis)\n",
        "* Visualizar os dados para identificar o perfil dos clientes que deram Churn\n",
        "\n",
        "\n",
        "##**A.Identificando as variáveis presentes no dataset**\n",
        "\n",
        "Nessa etapa, o interesse é obter algumas informações sobre o conjunto de dados. Uma maneira melhor de ver todas as colunas e seu tipo de dados é usando o método .info () :"
      ]
    },
    {
      "cell_type": "code",
      "metadata": {
        "id": "_TMw_vdAWH17",
        "colab_type": "code",
        "outputId": "95496bd0-e27d-4bae-fce8-851b1e09d563",
        "colab": {
          "base_uri": "https://localhost:8080/",
          "height": 390
        }
      },
      "source": [
        "pd.DataFrame.info(df)"
      ],
      "execution_count": 0,
      "outputs": [
        {
          "output_type": "stream",
          "text": [
            "<class 'pandas.core.frame.DataFrame'>\n",
            "RangeIndex: 10000 entries, 0 to 9999\n",
            "Data columns (total 14 columns):\n",
            " #   Column           Non-Null Count  Dtype  \n",
            "---  ------           --------------  -----  \n",
            " 0   RowNumber        10000 non-null  int64  \n",
            " 1   CustomerId       10000 non-null  int64  \n",
            " 2   Surname          10000 non-null  object \n",
            " 3   CreditScore      10000 non-null  int64  \n",
            " 4   Geography        10000 non-null  object \n",
            " 5   Gender           10000 non-null  object \n",
            " 6   Age              10000 non-null  int64  \n",
            " 7   Tenure           10000 non-null  int64  \n",
            " 8   Balance          10000 non-null  float64\n",
            " 9   NumOfProducts    10000 non-null  int64  \n",
            " 10  HasCrCard        10000 non-null  int64  \n",
            " 11  IsActiveMember   10000 non-null  int64  \n",
            " 12  EstimatedSalary  10000 non-null  float64\n",
            " 13  Exited           10000 non-null  int64  \n",
            "dtypes: float64(2), int64(9), object(3)\n",
            "memory usage: 1.1+ MB\n"
          ],
          "name": "stdout"
        }
      ]
    },
    {
      "cell_type": "markdown",
      "metadata": {
        "id": "S77hCl0BMR52",
        "colab_type": "text"
      },
      "source": [
        "Observamos que temos 14 variáveis e 10000 observações no dataset, além disso, temos variáveis do tipo inteiro, reais e objeto.\n",
        "\n",
        "Os dados se enquadram em duas categorias:\n",
        "\n",
        "* Variáveis categóricas: sexo, país, cartão de crédito, clientes ativos e saída do cliente.\n",
        "*Variáveis numéricas: escore do cliente, idade, tenure, balance, número de produtos, salário estimado.\n",
        "\n",
        "##**B. Identificando a variável alvo**\n",
        "\n",
        "Nosso interesse é identificar o perfil de clientes que cancelaram o serviço com agência bancária e tentar prever clientes em risco de Churn. Assim a variável 'Exited' é a variável adequada para alcançar os objetivos propostos.\n",
        "\n",
        "##**C. Exploração dos dados**"
      ]
    },
    {
      "cell_type": "markdown",
      "metadata": {
        "id": "mnrLzkmUEPLf",
        "colab_type": "text"
      },
      "source": [
        "\n",
        "Utilizamos o comando 'describe()' para obter algumas medidas descritivas das variáveis como, média, mediana (quartil 50%), máxima, mínimo, desvio padrão, quartis e a contagem "
      ]
    },
    {
      "cell_type": "code",
      "metadata": {
        "id": "x9aDM7rEWc9I",
        "colab_type": "code",
        "outputId": "ecec7d77-7889-4efe-f7f1-5e977836894d",
        "colab": {
          "base_uri": "https://localhost:8080/",
          "height": 287
        }
      },
      "source": [
        "df.describe()"
      ],
      "execution_count": 0,
      "outputs": [
        {
          "output_type": "execute_result",
          "data": {
            "text/html": [
              "<div>\n",
              "<style scoped>\n",
              "    .dataframe tbody tr th:only-of-type {\n",
              "        vertical-align: middle;\n",
              "    }\n",
              "\n",
              "    .dataframe tbody tr th {\n",
              "        vertical-align: top;\n",
              "    }\n",
              "\n",
              "    .dataframe thead th {\n",
              "        text-align: right;\n",
              "    }\n",
              "</style>\n",
              "<table border=\"1\" class=\"dataframe\">\n",
              "  <thead>\n",
              "    <tr style=\"text-align: right;\">\n",
              "      <th></th>\n",
              "      <th>RowNumber</th>\n",
              "      <th>CustomerId</th>\n",
              "      <th>CreditScore</th>\n",
              "      <th>Age</th>\n",
              "      <th>Tenure</th>\n",
              "      <th>Balance</th>\n",
              "      <th>NumOfProducts</th>\n",
              "      <th>HasCrCard</th>\n",
              "      <th>IsActiveMember</th>\n",
              "      <th>EstimatedSalary</th>\n",
              "      <th>Exited</th>\n",
              "    </tr>\n",
              "  </thead>\n",
              "  <tbody>\n",
              "    <tr>\n",
              "      <th>count</th>\n",
              "      <td>10000.00000</td>\n",
              "      <td>1.000000e+04</td>\n",
              "      <td>10000.000000</td>\n",
              "      <td>10000.000000</td>\n",
              "      <td>10000.000000</td>\n",
              "      <td>10000.000000</td>\n",
              "      <td>10000.000000</td>\n",
              "      <td>10000.00000</td>\n",
              "      <td>10000.000000</td>\n",
              "      <td>10000.000000</td>\n",
              "      <td>10000.000000</td>\n",
              "    </tr>\n",
              "    <tr>\n",
              "      <th>mean</th>\n",
              "      <td>5000.50000</td>\n",
              "      <td>1.569094e+07</td>\n",
              "      <td>650.528800</td>\n",
              "      <td>38.921800</td>\n",
              "      <td>5.012800</td>\n",
              "      <td>76485.889288</td>\n",
              "      <td>1.530200</td>\n",
              "      <td>0.70550</td>\n",
              "      <td>0.515100</td>\n",
              "      <td>100090.239881</td>\n",
              "      <td>0.203700</td>\n",
              "    </tr>\n",
              "    <tr>\n",
              "      <th>std</th>\n",
              "      <td>2886.89568</td>\n",
              "      <td>7.193619e+04</td>\n",
              "      <td>96.653299</td>\n",
              "      <td>10.487806</td>\n",
              "      <td>2.892174</td>\n",
              "      <td>62397.405202</td>\n",
              "      <td>0.581654</td>\n",
              "      <td>0.45584</td>\n",
              "      <td>0.499797</td>\n",
              "      <td>57510.492818</td>\n",
              "      <td>0.402769</td>\n",
              "    </tr>\n",
              "    <tr>\n",
              "      <th>min</th>\n",
              "      <td>1.00000</td>\n",
              "      <td>1.556570e+07</td>\n",
              "      <td>350.000000</td>\n",
              "      <td>18.000000</td>\n",
              "      <td>0.000000</td>\n",
              "      <td>0.000000</td>\n",
              "      <td>1.000000</td>\n",
              "      <td>0.00000</td>\n",
              "      <td>0.000000</td>\n",
              "      <td>11.580000</td>\n",
              "      <td>0.000000</td>\n",
              "    </tr>\n",
              "    <tr>\n",
              "      <th>25%</th>\n",
              "      <td>2500.75000</td>\n",
              "      <td>1.562853e+07</td>\n",
              "      <td>584.000000</td>\n",
              "      <td>32.000000</td>\n",
              "      <td>3.000000</td>\n",
              "      <td>0.000000</td>\n",
              "      <td>1.000000</td>\n",
              "      <td>0.00000</td>\n",
              "      <td>0.000000</td>\n",
              "      <td>51002.110000</td>\n",
              "      <td>0.000000</td>\n",
              "    </tr>\n",
              "    <tr>\n",
              "      <th>50%</th>\n",
              "      <td>5000.50000</td>\n",
              "      <td>1.569074e+07</td>\n",
              "      <td>652.000000</td>\n",
              "      <td>37.000000</td>\n",
              "      <td>5.000000</td>\n",
              "      <td>97198.540000</td>\n",
              "      <td>1.000000</td>\n",
              "      <td>1.00000</td>\n",
              "      <td>1.000000</td>\n",
              "      <td>100193.915000</td>\n",
              "      <td>0.000000</td>\n",
              "    </tr>\n",
              "    <tr>\n",
              "      <th>75%</th>\n",
              "      <td>7500.25000</td>\n",
              "      <td>1.575323e+07</td>\n",
              "      <td>718.000000</td>\n",
              "      <td>44.000000</td>\n",
              "      <td>7.000000</td>\n",
              "      <td>127644.240000</td>\n",
              "      <td>2.000000</td>\n",
              "      <td>1.00000</td>\n",
              "      <td>1.000000</td>\n",
              "      <td>149388.247500</td>\n",
              "      <td>0.000000</td>\n",
              "    </tr>\n",
              "    <tr>\n",
              "      <th>max</th>\n",
              "      <td>10000.00000</td>\n",
              "      <td>1.581569e+07</td>\n",
              "      <td>850.000000</td>\n",
              "      <td>92.000000</td>\n",
              "      <td>10.000000</td>\n",
              "      <td>250898.090000</td>\n",
              "      <td>4.000000</td>\n",
              "      <td>1.00000</td>\n",
              "      <td>1.000000</td>\n",
              "      <td>199992.480000</td>\n",
              "      <td>1.000000</td>\n",
              "    </tr>\n",
              "  </tbody>\n",
              "</table>\n",
              "</div>"
            ],
            "text/plain": [
              "         RowNumber    CustomerId  ...  EstimatedSalary        Exited\n",
              "count  10000.00000  1.000000e+04  ...     10000.000000  10000.000000\n",
              "mean    5000.50000  1.569094e+07  ...    100090.239881      0.203700\n",
              "std     2886.89568  7.193619e+04  ...     57510.492818      0.402769\n",
              "min        1.00000  1.556570e+07  ...        11.580000      0.000000\n",
              "25%     2500.75000  1.562853e+07  ...     51002.110000      0.000000\n",
              "50%     5000.50000  1.569074e+07  ...    100193.915000      0.000000\n",
              "75%     7500.25000  1.575323e+07  ...    149388.247500      0.000000\n",
              "max    10000.00000  1.581569e+07  ...    199992.480000      1.000000\n",
              "\n",
              "[8 rows x 11 columns]"
            ]
          },
          "metadata": {
            "tags": []
          },
          "execution_count": 7
        }
      ]
    },
    {
      "cell_type": "markdown",
      "metadata": {
        "id": "ohXq1crIHJDM",
        "colab_type": "text"
      },
      "source": [
        "Observamos que os clientes dessa agência bancária tem em média 39 anos, sendo a idade mínima de 18 anos e máxima de 92 anos. A pontuação de crédito fica em torno de 650 pontos e o índice médio de estabilidade de emprego é 5. \n",
        "\n",
        "Os clientes tem em média \\$76.000 mil doláres na conta e utilizam média 1,5 produto do banco. O salário médio estimado é de \\$100.000 mil doláres, 70% dos clientes possuem cartão de crédito e apenas 51% são ativos no banco, ou seja, fazem movimentação bancária constantemente. \n",
        "\n",
        "Analisando a variável de Churn ('Exited'), observa-se que 20% dos clientes romperam seu contrato com a agência bancária. \n",
        "\n",
        "Após a análise geral, dos clientes dos bancos, precisamos analisar a presença de dados faltantes no dataset.\n"
      ]
    },
    {
      "cell_type": "code",
      "metadata": {
        "id": "ZLKVegn4YgFt",
        "colab_type": "code",
        "outputId": "a329475f-6de4-4d0c-a615-fb6cf911c387",
        "colab": {
          "base_uri": "https://localhost:8080/",
          "height": 35
        }
      },
      "source": [
        "#quantidade de linhas e colunas do dataframe\n",
        "df.shape"
      ],
      "execution_count": 0,
      "outputs": [
        {
          "output_type": "execute_result",
          "data": {
            "text/plain": [
              "(10000, 14)"
            ]
          },
          "metadata": {
            "tags": []
          },
          "execution_count": 80
        }
      ]
    },
    {
      "cell_type": "markdown",
      "metadata": {
        "id": "h7EoMjuBdvl8",
        "colab_type": "text"
      },
      "source": [
        "**Distribuição das variáveis**\n",
        "\n",
        "Plotar a distribuição de cada variável, da uma visão geral da mesma e possíveis outilers (valores discrepantes)."
      ]
    },
    {
      "cell_type": "code",
      "metadata": {
        "id": "N7ZbAMnVaaz9",
        "colab_type": "code",
        "outputId": "4a0f197f-7c5a-41f6-cb61-3c3c72f7feaa",
        "colab": {
          "base_uri": "https://localhost:8080/",
          "height": 946
        }
      },
      "source": [
        "df.hist(figsize=(10,10))"
      ],
      "execution_count": 0,
      "outputs": [
        {
          "output_type": "execute_result",
          "data": {
            "text/plain": [
              "array([[<matplotlib.axes._subplots.AxesSubplot object at 0x7f24051a6c88>,\n",
              "        <matplotlib.axes._subplots.AxesSubplot object at 0x7f2405163748>,\n",
              "        <matplotlib.axes._subplots.AxesSubplot object at 0x7f2405111ac8>],\n",
              "       [<matplotlib.axes._subplots.AxesSubplot object at 0x7f2405144e48>,\n",
              "        <matplotlib.axes._subplots.AxesSubplot object at 0x7f2405101208>,\n",
              "        <matplotlib.axes._subplots.AxesSubplot object at 0x7f24050b4588>],\n",
              "       [<matplotlib.axes._subplots.AxesSubplot object at 0x7f2405066908>,\n",
              "        <matplotlib.axes._subplots.AxesSubplot object at 0x7f2405016c50>,\n",
              "        <matplotlib.axes._subplots.AxesSubplot object at 0x7f2405016cc0>],\n",
              "       [<matplotlib.axes._subplots.AxesSubplot object at 0x7f24050083c8>,\n",
              "        <matplotlib.axes._subplots.AxesSubplot object at 0x7f2404fbb748>,\n",
              "        <matplotlib.axes._subplots.AxesSubplot object at 0x7f2404f6bac8>]],\n",
              "      dtype=object)"
            ]
          },
          "metadata": {
            "tags": []
          },
          "execution_count": 13
        },
        {
          "output_type": "display_data",
          "data": {
            "image/png": "[encoded data removed]",
            "text/plain": [
              "<Figure size 720x864 with 12 Axes>"
            ]
          },
          "metadata": {
            "tags": [],
            "needs_background": "light"
          }
        }
      ]
    },
    {
      "cell_type": "markdown",
      "metadata": {
        "id": "B5tIjIVBWwf9",
        "colab_type": "text"
      },
      "source": [
        "## **D.Visualização de Dados - Qual o perfil de clientes que cancelaram o contrato (Churn)?**\n",
        "\n",
        "\n",
        "Agora, começamos a análise visual dos dados, veremos as técnicas gráficas são úteis para identificar as características dos clientes que cancelaram o serviço.\n",
        "\n",
        "Para construir os gráficos no Python, precisamos importar algumas *bibliotecas*."
      ]
    },
    {
      "cell_type": "code",
      "metadata": {
        "id": "E_mOlUFNXauy",
        "colab_type": "code",
        "colab": {}
      },
      "source": [
        "import numpy as np #  pacote algebra linear\n",
        "import seaborn as sns #visualização de dados\n",
        "import matplotlib.pyplot as plt#visualização de dados"
      ],
      "execution_count": 0,
      "outputs": []
    },
    {
      "cell_type": "code",
      "metadata": {
        "id": "36E8mLhvE_18",
        "colab_type": "code",
        "outputId": "1c209ee3-44f1-48c8-ce63-b631e32c5e9c",
        "colab": {
          "base_uri": "https://localhost:8080/"
        }
      },
      "source": [
        "# porcentagem de clientes que sairam do banco\n",
        "df['Exited'].sum()/df['Exited'].count()"
      ],
      "execution_count": 0,
      "outputs": [
        {
          "output_type": "execute_result",
          "data": {
            "text/plain": [
              "0.2037"
            ]
          },
          "metadata": {
            "tags": []
          },
          "execution_count": 7
        }
      ]
    },
    {
      "cell_type": "markdown",
      "metadata": {
        "id": "4h-09Lm3NnZ4",
        "colab_type": "text"
      },
      "source": [
        "Observe que 20% dos clientes dessa agência bancária abandonaram o serviço. Vale ressaltar que existe um desbalanceamento em relação a variável de interesse, Exited. E ignorar essa desproporção entre as classes pode impactar os resultados de previsão do modelo, que será assunto para o próximo artigo.\n",
        "\n"
      ]
    },
    {
      "cell_type": "markdown",
      "metadata": {
        "id": "e20GPaRNNSGp",
        "colab_type": "text"
      },
      "source": [
        "###**Variáveis Categóricas**\n",
        "\n",
        " Primeiro vamos analisar as variáveis categóricas em relação a variável de saída (Churn). Utilizaremos gráficos de barras para esse fim.\n",
        "\n",
        "* **Variável Sexo**"
      ]
    },
    {
      "cell_type": "code",
      "metadata": {
        "id": "sgOvW57lRWfU",
        "colab_type": "code",
        "outputId": "ab20a04a-51ed-4943-c904-a3bde7a18530",
        "colab": {
          "base_uri": "https://localhost:8080/",
          "height": 107
        }
      },
      "source": [
        "df_plot = df.groupby ('Gender'). Exited.mean (). reset_index () \n",
        "df_plot"
      ],
      "execution_count": 0,
      "outputs": [
        {
          "output_type": "execute_result",
          "data": {
            "text/html": [
              "<div>\n",
              "<style scoped>\n",
              "    .dataframe tbody tr th:only-of-type {\n",
              "        vertical-align: middle;\n",
              "    }\n",
              "\n",
              "    .dataframe tbody tr th {\n",
              "        vertical-align: top;\n",
              "    }\n",
              "\n",
              "    .dataframe thead th {\n",
              "        text-align: right;\n",
              "    }\n",
              "</style>\n",
              "<table border=\"1\" class=\"dataframe\">\n",
              "  <thead>\n",
              "    <tr style=\"text-align: right;\">\n",
              "      <th></th>\n",
              "      <th>Gender</th>\n",
              "      <th>Exited</th>\n",
              "    </tr>\n",
              "  </thead>\n",
              "  <tbody>\n",
              "    <tr>\n",
              "      <th>0</th>\n",
              "      <td>Female</td>\n",
              "      <td>0.250715</td>\n",
              "    </tr>\n",
              "    <tr>\n",
              "      <th>1</th>\n",
              "      <td>Male</td>\n",
              "      <td>0.164559</td>\n",
              "    </tr>\n",
              "  </tbody>\n",
              "</table>\n",
              "</div>"
            ],
            "text/plain": [
              "   Gender    Exited\n",
              "0  Female  0.250715\n",
              "1    Male  0.164559"
            ]
          },
          "metadata": {
            "tags": []
          },
          "execution_count": 48
        }
      ]
    },
    {
      "cell_type": "code",
      "metadata": {
        "id": "NKNvoRWBScp6",
        "colab_type": "code",
        "outputId": "58c27ff0-b9ec-4b3a-ee2a-66389501fe99",
        "colab": {
          "base_uri": "https://localhost:8080/",
          "height": 312
        }
      },
      "source": [
        "#Sexo em relação a variável churn\n",
        "x =df_plot['Gender']\n",
        "y=df_plot['Exited']\n",
        "plt.bar(x,y,color=['red','blue'])\n",
        "plt.title('Taxa de Churn em relação ao Sexo')\n",
        "plt.xlabel('Sexo')\n",
        "plt.ylabel('Taxa de Churn')"
      ],
      "execution_count": 0,
      "outputs": [
        {
          "output_type": "execute_result",
          "data": {
            "text/plain": [
              "Text(0, 0.5, 'Taxa de Churn')"
            ]
          },
          "metadata": {
            "tags": []
          },
          "execution_count": 51
        },
        {
          "output_type": "display_data",
          "data": {
            "image/png": "[encoded data removed]",
            "text/plain": [
              "<Figure size 432x288 with 1 Axes>"
            ]
          },
          "metadata": {
            "tags": [],
            "needs_background": "light"
          }
        }
      ]
    },
    {
      "cell_type": "markdown",
      "metadata": {
        "id": "ebV1MYqdL9Hb",
        "colab_type": "text"
      },
      "source": [
        "Observa-se que mulheres têm um risco maior de Churn do que homens. \n",
        "\n",
        "* **Variável País**"
      ]
    },
    {
      "cell_type": "code",
      "metadata": {
        "id": "QKVKTsKmFXZ8",
        "colab_type": "code",
        "outputId": "fa93195e-aa2d-4bd0-bd8e-ad354af186aa",
        "colab": {
          "base_uri": "https://localhost:8080/",
          "height": 137
        }
      },
      "source": [
        "df_plot = df.groupby ('Geography'). Exited.mean (). reset_index () \n",
        "df_plot"
      ],
      "execution_count": 0,
      "outputs": [
        {
          "output_type": "execute_result",
          "data": {
            "text/html": [
              "<div>\n",
              "<style scoped>\n",
              "    .dataframe tbody tr th:only-of-type {\n",
              "        vertical-align: middle;\n",
              "    }\n",
              "\n",
              "    .dataframe tbody tr th {\n",
              "        vertical-align: top;\n",
              "    }\n",
              "\n",
              "    .dataframe thead th {\n",
              "        text-align: right;\n",
              "    }\n",
              "</style>\n",
              "<table border=\"1\" class=\"dataframe\">\n",
              "  <thead>\n",
              "    <tr style=\"text-align: right;\">\n",
              "      <th></th>\n",
              "      <th>Geography</th>\n",
              "      <th>Exited</th>\n",
              "    </tr>\n",
              "  </thead>\n",
              "  <tbody>\n",
              "    <tr>\n",
              "      <th>0</th>\n",
              "      <td>France</td>\n",
              "      <td>0.161548</td>\n",
              "    </tr>\n",
              "    <tr>\n",
              "      <th>1</th>\n",
              "      <td>Germany</td>\n",
              "      <td>0.324432</td>\n",
              "    </tr>\n",
              "    <tr>\n",
              "      <th>2</th>\n",
              "      <td>Spain</td>\n",
              "      <td>0.166734</td>\n",
              "    </tr>\n",
              "  </tbody>\n",
              "</table>\n",
              "</div>"
            ],
            "text/plain": [
              "  Geography    Exited\n",
              "0    France  0.161548\n",
              "1   Germany  0.324432\n",
              "2     Spain  0.166734"
            ]
          },
          "metadata": {
            "tags": []
          },
          "execution_count": 54
        }
      ]
    },
    {
      "cell_type": "code",
      "metadata": {
        "id": "riYOyxdUFXT8",
        "colab_type": "code",
        "outputId": "d3443cd2-49f9-4f44-8051-627beb1585b8",
        "colab": {
          "base_uri": "https://localhost:8080/",
          "height": 312
        }
      },
      "source": [
        "#País em relação a variável churn\n",
        "x =df_plot['Geography']\n",
        "y=df_plot['Exited']\n",
        "plt.bar(x,y,color=['red','blue','green'])\n",
        "plt.title('Taxa de Churn em relação ao País')\n",
        "plt.xlabel('País')\n",
        "plt.ylabel('Taxa de Churn')"
      ],
      "execution_count": 0,
      "outputs": [
        {
          "output_type": "execute_result",
          "data": {
            "text/plain": [
              "Text(0, 0.5, 'Taxa de Churn')"
            ]
          },
          "metadata": {
            "tags": []
          },
          "execution_count": 55
        },
        {
          "output_type": "display_data",
          "data": {
            "image/png": "[encoded data removed]",
            "text/plain": [
              "<Figure size 432x288 with 1 Axes>"
            ]
          },
          "metadata": {
            "tags": [],
            "needs_background": "light"
          }
        }
      ]
    },
    {
      "cell_type": "markdown",
      "metadata": {
        "id": "CTyfyfB4ONZ1",
        "colab_type": "text"
      },
      "source": [
        "Em relação a variável país, observa-se que a porcentagem de Churn na Alemanha é bastante elevada, onde 32% dos clientes encerraram a conta no banco. Espanha e França têm uma taxa de Churn parecidas em torno de 16%.\n",
        "\n",
        "* **Variável Cartão de Crédito**"
      ]
    },
    {
      "cell_type": "code",
      "metadata": {
        "id": "4QXjqEwVQwNv",
        "colab_type": "code",
        "outputId": "7d3750ad-613d-433e-9550-f3e55f4185b8",
        "colab": {
          "base_uri": "https://localhost:8080/",
          "height": 107
        }
      },
      "source": [
        "df_plot = df.groupby ('HasCrCard'). Exited.mean (). reset_index () \n",
        "df_plot"
      ],
      "execution_count": 0,
      "outputs": [
        {
          "output_type": "execute_result",
          "data": {
            "text/html": [
              "<div>\n",
              "<style scoped>\n",
              "    .dataframe tbody tr th:only-of-type {\n",
              "        vertical-align: middle;\n",
              "    }\n",
              "\n",
              "    .dataframe tbody tr th {\n",
              "        vertical-align: top;\n",
              "    }\n",
              "\n",
              "    .dataframe thead th {\n",
              "        text-align: right;\n",
              "    }\n",
              "</style>\n",
              "<table border=\"1\" class=\"dataframe\">\n",
              "  <thead>\n",
              "    <tr style=\"text-align: right;\">\n",
              "      <th></th>\n",
              "      <th>HasCrCard</th>\n",
              "      <th>Exited</th>\n",
              "    </tr>\n",
              "  </thead>\n",
              "  <tbody>\n",
              "    <tr>\n",
              "      <th>0</th>\n",
              "      <td>0</td>\n",
              "      <td>0.208149</td>\n",
              "    </tr>\n",
              "    <tr>\n",
              "      <th>1</th>\n",
              "      <td>1</td>\n",
              "      <td>0.201843</td>\n",
              "    </tr>\n",
              "  </tbody>\n",
              "</table>\n",
              "</div>"
            ],
            "text/plain": [
              "   HasCrCard    Exited\n",
              "0          0  0.208149\n",
              "1          1  0.201843"
            ]
          },
          "metadata": {
            "tags": []
          },
          "execution_count": 56
        }
      ]
    },
    {
      "cell_type": "code",
      "metadata": {
        "id": "yeP1L7L9RBJW",
        "colab_type": "code",
        "outputId": "19951975-885b-46c8-d8b9-7083ab46c7aa",
        "colab": {
          "base_uri": "https://localhost:8080/",
          "height": 282
        }
      },
      "source": [
        "#Carão de crédito em relação a variável churn\n",
        "x =df_plot['HasCrCard']\n",
        "y=df_plot['Exited']\n",
        "plt.bar(x,y,color=['red','blue'])\n",
        "plt.title('Taxa de Churn em relação a variável Cartão de Crédito')\n",
        "plt.xlabel('Cartão de crédito')\n",
        "plt.ylabel('Taxa de Churn')"
      ],
      "execution_count": 0,
      "outputs": [
        {
          "output_type": "execute_result",
          "data": {
            "text/plain": [
              "<BarContainer object of 2 artists>"
            ]
          },
          "metadata": {
            "tags": []
          },
          "execution_count": 9
        },
        {
          "output_type": "display_data",
          "data": {
            "image/png": "[encoded data removed]",
            "text/plain": [
              "<Figure size 432x288 with 1 Axes>"
            ]
          },
          "metadata": {
            "tags": [],
            "needs_background": "light"
          }
        }
      ]
    },
    {
      "cell_type": "markdown",
      "metadata": {
        "id": "X4b8bYpuROIy",
        "colab_type": "text"
      },
      "source": [
        "Observa-se que o cliente ter ou não cartão de crédito parece não influenciar no Churn.\n",
        "\n",
        "* **Variável Membro Ativo**\n"
      ]
    },
    {
      "cell_type": "code",
      "metadata": {
        "id": "hbOwAtjnRn05",
        "colab_type": "code",
        "outputId": "85dc616b-c715-490e-8d41-a26618b5f9b7",
        "colab": {
          "base_uri": "https://localhost:8080/",
          "height": 107
        }
      },
      "source": [
        "df_plot = df.groupby ('IsActiveMember'). Exited.mean (). reset_index () \n",
        "df_plot"
      ],
      "execution_count": 0,
      "outputs": [
        {
          "output_type": "execute_result",
          "data": {
            "text/html": [
              "<div>\n",
              "<style scoped>\n",
              "    .dataframe tbody tr th:only-of-type {\n",
              "        vertical-align: middle;\n",
              "    }\n",
              "\n",
              "    .dataframe tbody tr th {\n",
              "        vertical-align: top;\n",
              "    }\n",
              "\n",
              "    .dataframe thead th {\n",
              "        text-align: right;\n",
              "    }\n",
              "</style>\n",
              "<table border=\"1\" class=\"dataframe\">\n",
              "  <thead>\n",
              "    <tr style=\"text-align: right;\">\n",
              "      <th></th>\n",
              "      <th>IsActiveMember</th>\n",
              "      <th>Exited</th>\n",
              "    </tr>\n",
              "  </thead>\n",
              "  <tbody>\n",
              "    <tr>\n",
              "      <th>0</th>\n",
              "      <td>0</td>\n",
              "      <td>0.268509</td>\n",
              "    </tr>\n",
              "    <tr>\n",
              "      <th>1</th>\n",
              "      <td>1</td>\n",
              "      <td>0.142691</td>\n",
              "    </tr>\n",
              "  </tbody>\n",
              "</table>\n",
              "</div>"
            ],
            "text/plain": [
              "   IsActiveMember    Exited\n",
              "0               0  0.268509\n",
              "1               1  0.142691"
            ]
          },
          "metadata": {
            "tags": []
          },
          "execution_count": 58
        }
      ]
    },
    {
      "cell_type": "code",
      "metadata": {
        "id": "XTfSy60bRfj0",
        "colab_type": "code",
        "outputId": "c5c2e242-5df3-4a67-97a8-34c31bf94ed4",
        "colab": {
          "base_uri": "https://localhost:8080/",
          "height": 312
        }
      },
      "source": [
        "#Membro ativo em relação a variável churn\n",
        "x =df_plot['IsActiveMember']\n",
        "y=df_plot['Exited']\n",
        "plt.bar(x,y,color=['red','blue'])\n",
        "plt.title('Taxa de Churn em relação a variável Membro Ativo')\n",
        "plt.xlabel('Membro ativo')\n",
        "plt.ylabel('Taxa de Churn')"
      ],
      "execution_count": 0,
      "outputs": [
        {
          "output_type": "execute_result",
          "data": {
            "text/plain": [
              "Text(0, 0.5, 'Taxa de Churn')"
            ]
          },
          "metadata": {
            "tags": []
          },
          "execution_count": 59
        },
        {
          "output_type": "display_data",
          "data": {
            "image/png": "[encoded data removed]",
            "text/plain": [
              "<Figure size 432x288 with 1 Axes>"
            ]
          },
          "metadata": {
            "tags": [],
            "needs_background": "light"
          }
        }
      ]
    },
    {
      "cell_type": "markdown",
      "metadata": {
        "id": "jxLt0Zq1Rwut",
        "colab_type": "text"
      },
      "source": [
        "O Churn entre os clientes que não são ativos é maior do que os clientes ativos, tendo uma diferença de aproximadamente 12%.\n",
        "\n",
        "###**Variáveis numéricas**\n",
        "\n",
        "Para as variáveis numéricas utilizaremos variáveis de barras para variáveis discretas e gráfico de dispersão e box-plot para as variáveis contínuas. Também analisaremos a matriz de correlação para ver a correlação entre as variáveis.\n",
        "\n",
        "* **Matriz de Correlação**\n",
        "\n",
        "Utilizaremos a função heatmap() para entender o relacionamento entre as variáveis.\n"
      ]
    },
    {
      "cell_type": "code",
      "metadata": {
        "id": "UvvQBh4uihuD",
        "colab_type": "code",
        "outputId": "ccd3ed0a-ea2a-4027-fa46-111df2c1eb79",
        "colab": {
          "base_uri": "https://localhost:8080/",
          "height": 414
        }
      },
      "source": [
        "import seaborn as sns\n",
        "sns.heatmap(df.corr(),annot = True,\n",
        "            fmt = '.2f',cmap='Blues')"
      ],
      "execution_count": 0,
      "outputs": [
        {
          "output_type": "stream",
          "text": [
            "/usr/local/lib/python3.6/dist-packages/statsmodels/tools/_testing.py:19: FutureWarning: pandas.util.testing is deprecated. Use the functions in the public API at pandas.testing instead.\n",
            "  import pandas.util.testing as tm\n"
          ],
          "name": "stderr"
        },
        {
          "output_type": "execute_result",
          "data": {
            "text/plain": [
              "<matplotlib.axes._subplots.AxesSubplot at 0x7f41890a82b0>"
            ]
          },
          "metadata": {
            "tags": []
          },
          "execution_count": 4
        },
        {
          "output_type": "display_data",
          "data": {
            "image/png": "[encoded data removed]",
            "text/plain": [
              "<Figure size 432x288 with 2 Axes>"
            ]
          },
          "metadata": {
            "tags": [],
            "needs_background": "light"
          }
        }
      ]
    },
    {
      "cell_type": "markdown",
      "metadata": {
        "id": "R49BFoxPmY10",
        "colab_type": "text"
      },
      "source": [
        "Analisando a correlação entre a variável, observa-se que as correnação são baixas, observa uma correlação negativa de - 0,3 entre as variáveis Número de Produtos e Saldo Bancário ('Balance'). Ou seja, quando menor o Número de Produtos maior o Saldo Bancário."
      ]
    },
    {
      "cell_type": "markdown",
      "metadata": {
        "id": "uhVvuPVYQf0t",
        "colab_type": "text"
      },
      "source": [
        "* **Variável Número de Produtos**"
      ]
    },
    {
      "cell_type": "code",
      "metadata": {
        "id": "UbE2oVl2VFOi",
        "colab_type": "code",
        "outputId": "66b50cd5-6ea3-4281-9760-78e08b39046a",
        "colab": {
          "base_uri": "https://localhost:8080/",
          "height": 167
        }
      },
      "source": [
        "df_plot = df.groupby ('NumOfProducts'). Exited.mean (). reset_index () \n",
        "df_plot\n"
      ],
      "execution_count": 0,
      "outputs": [
        {
          "output_type": "execute_result",
          "data": {
            "text/html": [
              "<div>\n",
              "<style scoped>\n",
              "    .dataframe tbody tr th:only-of-type {\n",
              "        vertical-align: middle;\n",
              "    }\n",
              "\n",
              "    .dataframe tbody tr th {\n",
              "        vertical-align: top;\n",
              "    }\n",
              "\n",
              "    .dataframe thead th {\n",
              "        text-align: right;\n",
              "    }\n",
              "</style>\n",
              "<table border=\"1\" class=\"dataframe\">\n",
              "  <thead>\n",
              "    <tr style=\"text-align: right;\">\n",
              "      <th></th>\n",
              "      <th>NumOfProducts</th>\n",
              "      <th>Exited</th>\n",
              "    </tr>\n",
              "  </thead>\n",
              "  <tbody>\n",
              "    <tr>\n",
              "      <th>0</th>\n",
              "      <td>1</td>\n",
              "      <td>0.277144</td>\n",
              "    </tr>\n",
              "    <tr>\n",
              "      <th>1</th>\n",
              "      <td>2</td>\n",
              "      <td>0.075817</td>\n",
              "    </tr>\n",
              "    <tr>\n",
              "      <th>2</th>\n",
              "      <td>3</td>\n",
              "      <td>0.827068</td>\n",
              "    </tr>\n",
              "    <tr>\n",
              "      <th>3</th>\n",
              "      <td>4</td>\n",
              "      <td>1.000000</td>\n",
              "    </tr>\n",
              "  </tbody>\n",
              "</table>\n",
              "</div>"
            ],
            "text/plain": [
              "   NumOfProducts    Exited\n",
              "0              1  0.277144\n",
              "1              2  0.075817\n",
              "2              3  0.827068\n",
              "3              4  1.000000"
            ]
          },
          "metadata": {
            "tags": []
          },
          "execution_count": 60
        }
      ]
    },
    {
      "cell_type": "code",
      "metadata": {
        "id": "GVjGYJSh3z8t",
        "colab_type": "code",
        "outputId": "5a5852a8-8ac6-41e8-f7d2-2db85b61903f",
        "colab": {
          "base_uri": "https://localhost:8080/",
          "height": 313
        }
      },
      "source": [
        "#Número de produtos em relação a variável churn\n",
        "x =df_plot['NumOfProducts']\n",
        "y=df_plot['Exited']\n",
        "plt.bar(x,y,color=['red','blue','green'])\n",
        "plt.title('Taxa de Churn em relação ao Número de Produtos')\n",
        "plt.xlabel('Números de produtos')\n",
        "plt.ylabel('Taxa de Churn')"
      ],
      "execution_count": 0,
      "outputs": [
        {
          "output_type": "execute_result",
          "data": {
            "text/plain": [
              "Text(0, 0.5, 'Taxa de Churn')"
            ]
          },
          "metadata": {
            "tags": []
          },
          "execution_count": 61
        },
        {
          "output_type": "display_data",
          "data": {
            "image/png": "[encoded data removed]",
            "text/plain": [
              "<Figure size 432x288 with 1 Axes>"
            ]
          },
          "metadata": {
            "tags": [],
            "needs_background": "light"
          }
        }
      ]
    },
    {
      "cell_type": "markdown",
      "metadata": {
        "id": "sWmOqxHxjDfI",
        "colab_type": "text"
      },
      "source": [
        "Clientes com maior números de produtos têm uma taxa de Churn mais elevadas do que clientes com poucos serviços contratados. "
      ]
    },
    {
      "cell_type": "markdown",
      "metadata": {
        "id": "Q4Q-yPKOTYtD",
        "colab_type": "text"
      },
      "source": [
        "* **Variável Tenure**\n"
      ]
    },
    {
      "cell_type": "code",
      "metadata": {
        "id": "tnBjCabJTeir",
        "colab_type": "code",
        "outputId": "7b28ba3a-d3fd-4f5b-d963-47738bf37720",
        "colab": {
          "base_uri": "https://localhost:8080/",
          "height": 316
        }
      },
      "source": [
        "df_plot = df.groupby ('Tenure'). Exited.mean (). reset_index () \n",
        "#Número de produtos em relação a variável churn\n",
        "x =df_plot['Tenure']\n",
        "y=df_plot['Exited']\n",
        "plt.bar(x,y)\n",
        "plt.title('Taxa de Churn em relação ao Índice de Estabilidade no emprego')\n",
        "plt.xlabel('Índice de Estabilidade no emprego')\n",
        "plt.ylabel('Taxa de Churn')"
      ],
      "execution_count": 0,
      "outputs": [
        {
          "output_type": "execute_result",
          "data": {
            "text/plain": [
              "Text(0, 0.5, 'Taxa de Churn')"
            ]
          },
          "metadata": {
            "tags": []
          },
          "execution_count": 64
        },
        {
          "output_type": "display_data",
          "data": {
            "image/png": "[encoded data removed]",
            "text/plain": [
              "<Figure size 432x288 with 1 Axes>"
            ]
          },
          "metadata": {
            "tags": [],
            "needs_background": "light"
          }
        }
      ]
    },
    {
      "cell_type": "code",
      "metadata": {
        "id": "dO8SGjtrNooy",
        "colab_type": "code",
        "outputId": "7674ceb9-89d3-4538-f6a3-a2ec69c2e884",
        "colab": {
          "base_uri": "https://localhost:8080/",
          "height": 352
        }
      },
      "source": [
        "sns.boxplot(x=\"Exited\", y=\"Tenure\" , data=df);\n",
        "df.groupby(['Exited'])['Tenure'].mean()"
      ],
      "execution_count": 0,
      "outputs": [
        {
          "output_type": "execute_result",
          "data": {
            "text/plain": [
              "Exited\n",
              "0    5.033279\n",
              "1    4.932744\n",
              "Name: Tenure, dtype: float64"
            ]
          },
          "metadata": {
            "tags": []
          },
          "execution_count": 58
        },
        {
          "output_type": "display_data",
          "data": {
            "image/png": "[encoded data removed]",
            "text/plain": [
              "<Figure size 432x288 with 1 Axes>"
            ]
          },
          "metadata": {
            "tags": [],
            "needs_background": "light"
          }
        }
      ]
    },
    {
      "cell_type": "markdown",
      "metadata": {
        "id": "3zhSQ2CcjU_1",
        "colab_type": "text"
      },
      "source": [
        "O nível de estabilidade do emprego parace não influenciar a taxa de Churn.\n",
        "\n",
        "* **Variável Saldo Bancário**"
      ]
    },
    {
      "cell_type": "code",
      "metadata": {
        "id": "fyphDzV7srVh",
        "colab_type": "code",
        "outputId": "40ca3cde-0865-41d7-993d-6aa130c6fbc7",
        "colab": {
          "base_uri": "https://localhost:8080/",
          "height": 352
        }
      },
      "source": [
        "#box-plot salto bancario em relação ao Churn\n",
        "sns.boxplot(x=\"Exited\", y=\"Balance\" , data=df);\n",
        "df.groupby(['Exited'])['Balance'].mean()"
      ],
      "execution_count": 0,
      "outputs": [
        {
          "output_type": "execute_result",
          "data": {
            "text/plain": [
              "Exited\n",
              "0    72745.296779\n",
              "1    91108.539337\n",
              "Name: Balance, dtype: float64"
            ]
          },
          "metadata": {
            "tags": []
          },
          "execution_count": 30
        },
        {
          "output_type": "display_data",
          "data": {
            "image/png": "[encoded data removed]",
            "text/plain": [
              "<Figure size 432x288 with 1 Axes>"
            ]
          },
          "metadata": {
            "tags": [],
            "needs_background": "light"
          }
        }
      ]
    },
    {
      "cell_type": "markdown",
      "metadata": {
        "id": "em5X8-IOjgKd",
        "colab_type": "text"
      },
      "source": [
        "Clientes que cancelaram os serviços bancários possui um saldo bancários maior do que aqueles clientes que não cancelaram o serviço. \n",
        "\n",
        "* **Variável Salário Estimado**"
      ]
    },
    {
      "cell_type": "code",
      "metadata": {
        "id": "5uey6B-wtMz-",
        "colab_type": "code",
        "outputId": "f5971af0-2c5e-4266-9ccd-8ce655a3de43",
        "colab": {
          "base_uri": "https://localhost:8080/",
          "height": 352
        }
      },
      "source": [
        "#box-plot menor batimento cardiaco pelo diagnostico na admissão\n",
        "sns.boxplot(x=\"Exited\", y=\"EstimatedSalary\" , data=df);\n",
        "df.groupby(['Exited'])['EstimatedSalary'].mean()"
      ],
      "execution_count": 0,
      "outputs": [
        {
          "output_type": "execute_result",
          "data": {
            "text/plain": [
              "Exited\n",
              "0     99738.391772\n",
              "1    101465.677531\n",
              "Name: EstimatedSalary, dtype: float64"
            ]
          },
          "metadata": {
            "tags": []
          },
          "execution_count": 25
        },
        {
          "output_type": "display_data",
          "data": {
            "image/png": "[encoded data removed]",
            "text/plain": [
              "<Figure size 432x288 with 1 Axes>"
            ]
          },
          "metadata": {
            "tags": [],
            "needs_background": "light"
          }
        }
      ]
    },
    {
      "cell_type": "markdown",
      "metadata": {
        "id": "3kCFHFa2lLCv",
        "colab_type": "text"
      },
      "source": [
        "O salário estimado parece não influenciar no cancelamento ou não do serviço bancário.\n",
        "\n",
        "* **Variável Idade**"
      ]
    },
    {
      "cell_type": "code",
      "metadata": {
        "id": "Bz5bjFMsbTAw",
        "colab_type": "code",
        "outputId": "32f0d339-6e4d-42ae-cba7-4364041cfcd4",
        "colab": {
          "base_uri": "https://localhost:8080/",
          "height": 312
        }
      },
      "source": [
        "df_plot = df.groupby ('Age'). Exited.mean (). reset_index () \n",
        "#Número de produtos em relação a variável churn\n",
        "x =df_plot['Age']\n",
        "y=df_plot['Exited']\n",
        "plt.scatter(x,y)\n",
        "plt.title('Taxa de Churn em relação a Idade')\n",
        "plt.xlabel('Idade')\n",
        "plt.ylabel('Taxa de Churn')"
      ],
      "execution_count": 0,
      "outputs": [
        {
          "output_type": "execute_result",
          "data": {
            "text/plain": [
              "Text(0, 0.5, 'Taxa de Churn')"
            ]
          },
          "metadata": {
            "tags": []
          },
          "execution_count": 65
        },
        {
          "output_type": "display_data",
          "data": {
            "image/png": "[encoded data removed]",
            "text/plain": [
              "<Figure size 432x288 with 1 Axes>"
            ]
          },
          "metadata": {
            "tags": [],
            "needs_background": "light"
          }
        }
      ]
    },
    {
      "cell_type": "code",
      "metadata": {
        "id": "Ya05em-EAlz0",
        "colab_type": "code",
        "outputId": "b7dec2c1-8448-49ca-8e3a-02b440984727",
        "colab": {
          "base_uri": "https://localhost:8080/",
          "height": 279
        }
      },
      "source": [
        "#box-plot Idade pelo Churn\n",
        "sns.boxplot(x=\"Exited\", y=\"Age\" , data=df);\n",
        "df.groupby(['Exited'])['Age'].mean()"
      ],
      "execution_count": 0,
      "outputs": [
        {
          "output_type": "display_data",
          "data": {
            "image/png": "[encoded data removed]",
            "text/plain": [
              "<Figure size 432x288 with 1 Axes>"
            ]
          },
          "metadata": {
            "tags": [],
            "needs_background": "light"
          }
        }
      ]
    },
    {
      "cell_type": "markdown",
      "metadata": {
        "id": "FOuoo9_pc7xh",
        "colab_type": "text"
      },
      "source": [
        "Observa-se, pelo boxplot, que clientes que cancelaram o serviço têm uma idade maior do que os clientes que não cancelaram o serviço. E pelo gráfico de dispersão, entre a taxa de Churn e a idade, observa-se  que pessoas entre 50 e 60 anos tem uma alta taxa de Churn e clientes com mais de 75 anos tem risco quase zero de abandonar os serviços bancários.\n",
        "\n",
        "* **Variável Escore de Crédito**"
      ]
    },
    {
      "cell_type": "code",
      "metadata": {
        "id": "3wUV8_V1Al4l",
        "colab_type": "code",
        "outputId": "8279b291-9d6b-4589-c039-6d16dd40d72d",
        "colab": {
          "base_uri": "https://localhost:8080/",
          "height": 350
        }
      },
      "source": [
        "#box-plot menor batimento cardiaco pelo diagnostico na admissão\n",
        "\n",
        "sns.boxplot(x=\"Exited\", y=\"CreditScore\" , data=df);\n",
        "df.groupby(['Exited'])['CreditScore'].mean()"
      ],
      "execution_count": 0,
      "outputs": [
        {
          "output_type": "execute_result",
          "data": {
            "text/plain": [
              "Exited\n",
              "0    651.853196\n",
              "1    645.351497\n",
              "Name: CreditScore, dtype: float64"
            ]
          },
          "metadata": {
            "tags": []
          },
          "execution_count": 16
        },
        {
          "output_type": "display_data",
          "data": {
            "image/png": "[encoded data removed]",
            "text/plain": [
              "<Figure size 432x288 with 1 Axes>"
            ]
          },
          "metadata": {
            "tags": [],
            "needs_background": "light"
          }
        }
      ]
    },
    {
      "cell_type": "code",
      "metadata": {
        "id": "u1WMSYM5nwCm",
        "colab_type": "code",
        "outputId": "c210a8ce-ba36-4a09-9089-72dd57accaef",
        "colab": {
          "base_uri": "https://localhost:8080/",
          "height": 312
        }
      },
      "source": [
        "#Número de produtos em relação a variável churn\n",
        "df_plot = df.groupby ('CreditScore'). Exited.mean (). reset_index () \n",
        "\n",
        "x =df_plot['CreditScore']\n",
        "y=df_plot['Exited']\n",
        "plt.scatter(x,y)\n",
        "plt.title('Taxa de Churn em relação ao Score de Crédito')\n",
        "plt.xlabel('Score de Crédito')\n",
        "plt.ylabel('Taxa de Churn')"
      ],
      "execution_count": 0,
      "outputs": [
        {
          "output_type": "execute_result",
          "data": {
            "text/plain": [
              "Text(0, 0.5, 'Taxa de Churn')"
            ]
          },
          "metadata": {
            "tags": []
          },
          "execution_count": 66
        },
        {
          "output_type": "display_data",
          "data": {
            "image/png": "[encoded data removed]",
            "text/plain": [
              "<Figure size 432x288 with 1 Axes>"
            ]
          },
          "metadata": {
            "tags": [],
            "needs_background": "light"
          }
        }
      ]
    },
    {
      "cell_type": "markdown",
      "metadata": {
        "id": "Y7pNBXhvoHJt",
        "colab_type": "text"
      },
      "source": [
        "Analisando o boxplot, a variável pontuação de crédito aparenta não ter diferença em relação ao Churn de clientes. Porém, quando observamos o gráfico de dispersão da taxa de Churn em relação a pontuação de crédito, temos que as maiores taxas de Churn são dos clientes com baixa pontuação de crédito. \n",
        "\n",
        "Ou seja, clientes com alto risco de serem inadimplentes também tem uma propensão maior de Churn."
      ]
    },
    {
      "cell_type": "markdown",
      "metadata": {
        "id": "S8a0es_jrEtq",
        "colab_type": "text"
      },
      "source": [
        "# **Conclusão Parte II - Visualização de Dados**\n",
        "\n",
        "Análisando o histórico de clientes, observamos algumas características entre os clientes que cancelaram o serviço. \n",
        "\n",
        "Observa-se que clientes da Alemanha, do sexo feminino, que não são membro ativo, com alto número de produtos, score de crédito baixo, com saldo bancário elevado e com idade entre 50 e 60 anos têm uma taxa de Churn maior que os outros clientes.\n",
        "\n",
        "Assim, clientes com essas características possui um risco maior de cancelarem o serviço bancário.\n",
        "\n",
        "Nessa parte II, analisamos o perfil dos clientes que deram o Churn, análise exploratória dos dados é uma parte essencial nessa parte e como podemos ver conseguimos extrair muitas informações com essa etapa.\n",
        "\n",
        "Modelos de Machine Learning são uma poderosa ferramentas, mas nem sempre é necessária.\n",
        "\n",
        "Na parte III, dessa série de artigos, iremos implementar um modelo de Churn para prever os clientes com um alto risco de Churn.\n",
        "\n",
        "Se ficou com alguma dúvida, deixe seu comentário e não se esqueça de rodar os códigos na sua máquina e começar a desenvolver na prática um projeto de Data Science.\n"
      ]
    }
  ]
}